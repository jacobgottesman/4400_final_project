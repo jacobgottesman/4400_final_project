{
 "cells": [
  {
   "cell_type": "code",
   "execution_count": 1,
   "metadata": {},
   "outputs": [],
   "source": [
    "import json\n",
    "from tqdm import tqdm\n",
    "import pandas as pd\n",
    "from utils.preprocessing import *"
   ]
  },
  {
   "cell_type": "code",
   "execution_count": 2,
   "metadata": {},
   "outputs": [],
   "source": [
    "start_index = 0\n",
    "end_index = 25000"
   ]
  },
  {
   "cell_type": "code",
   "execution_count": 3,
   "metadata": {},
   "outputs": [
    {
     "name": "stderr",
     "output_type": "stream",
     "text": [
      "167783it [03:56, 709.59it/s] "
     ]
    },
    {
     "name": "stdout",
     "output_type": "stream",
     "text": [
      "Loaded 167783 JSON objects\n"
     ]
    },
    {
     "name": "stderr",
     "output_type": "stream",
     "text": [
      "\n"
     ]
    }
   ],
   "source": [
    "# get running data from endomondo\n",
    "input_file = \"archive/endomondoHR_proper.json\"\n",
    "output_file = \"archive/endomondoHR_fixed.json\"\n",
    "\n",
    "with open(input_file, \"r\", encoding=\"utf-8\") as infile, open(output_file, \"w\", encoding=\"utf-8\") as outfile:\n",
    "    for line in infile:\n",
    "        corrected_line = line.replace(\"'\", '\"')  # Replace single quotes with double quotes\n",
    "        outfile.write(corrected_line)\n",
    "\n",
    "\n",
    "data = []\n",
    "with open(output_file, \"r\", encoding=\"utf-8\") as f:\n",
    "    for line in tqdm(f):\n",
    "        data.append(json.loads(line))  # Load each line separately\n",
    "\n",
    "print(f\"Loaded {len(data)} JSON objects\")\n"
   ]
  },
  {
   "cell_type": "code",
   "execution_count": 4,
   "metadata": {},
   "outputs": [
    {
     "name": "stderr",
     "output_type": "stream",
     "text": [
      "100%|██████████| 70591/70591 [01:03<00:00, 1120.46it/s]\n",
      "/var/folders/x9/qclw84p93r16jsllq_m9wgr40000gn/T/ipykernel_97120/4208802304.py:8: SettingWithCopyWarning: \n",
      "A value is trying to be set on a copy of a slice from a DataFrame.\n",
      "Try using .loc[row_indexer,col_indexer] = value instead\n",
      "\n",
      "See the caveats in the documentation: https://pandas.pydata.org/pandas-docs/stable/user_guide/indexing.html#returning-a-view-versus-a-copy\n",
      "  run_routes['distance'] = run_routes.progress_apply(lambda row: get_route_distance(row['latitude'], row['longitude']), axis=1)\n",
      "/var/folders/x9/qclw84p93r16jsllq_m9wgr40000gn/T/ipykernel_97120/4208802304.py:9: SettingWithCopyWarning: \n",
      "A value is trying to be set on a copy of a slice from a DataFrame.\n",
      "Try using .loc[row_indexer,col_indexer] = value instead\n",
      "\n",
      "See the caveats in the documentation: https://pandas.pydata.org/pandas-docs/stable/user_guide/indexing.html#returning-a-view-versus-a-copy\n",
      "  run_routes['duration'] = run_routes.apply(lambda row: calculate_route_duration(row['timestamp']), axis=1)\n",
      "/var/folders/x9/qclw84p93r16jsllq_m9wgr40000gn/T/ipykernel_97120/4208802304.py:10: SettingWithCopyWarning: \n",
      "A value is trying to be set on a copy of a slice from a DataFrame.\n",
      "Try using .loc[row_indexer,col_indexer] = value instead\n",
      "\n",
      "See the caveats in the documentation: https://pandas.pydata.org/pandas-docs/stable/user_guide/indexing.html#returning-a-view-versus-a-copy\n",
      "  run_routes['start_end_dist'] = run_routes.apply(lambda row: get_start_end_dist(row['latitude'], row['longitude']), axis=1)\n"
     ]
    },
    {
     "data": {
      "text/html": [
       "<div>\n",
       "<style scoped>\n",
       "    .dataframe tbody tr th:only-of-type {\n",
       "        vertical-align: middle;\n",
       "    }\n",
       "\n",
       "    .dataframe tbody tr th {\n",
       "        vertical-align: top;\n",
       "    }\n",
       "\n",
       "    .dataframe thead th {\n",
       "        text-align: right;\n",
       "    }\n",
       "</style>\n",
       "<table border=\"1\" class=\"dataframe\">\n",
       "  <thead>\n",
       "    <tr style=\"text-align: right;\">\n",
       "      <th></th>\n",
       "      <th>longitude</th>\n",
       "      <th>altitude</th>\n",
       "      <th>latitude</th>\n",
       "      <th>sport</th>\n",
       "      <th>id</th>\n",
       "      <th>heart_rate</th>\n",
       "      <th>gender</th>\n",
       "      <th>timestamp</th>\n",
       "      <th>url</th>\n",
       "      <th>userId</th>\n",
       "      <th>speed</th>\n",
       "      <th>distance</th>\n",
       "      <th>duration</th>\n",
       "      <th>start_end_dist</th>\n",
       "    </tr>\n",
       "  </thead>\n",
       "  <tbody>\n",
       "    <tr>\n",
       "      <th>0</th>\n",
       "      <td>[6.8854929, 6.8853678, 6.8851621, 6.8848205, 6...</td>\n",
       "      <td>[-173.8, -151.2, -161.6, -165.4, -168.6, -172....</td>\n",
       "      <td>[52.2226809, 52.222727, 52.2228258, 52.2228606...</td>\n",
       "      <td>run</td>\n",
       "      <td>321063199</td>\n",
       "      <td>[80, 81, 94, 100, 102, 112, 108, 114, 110, 109...</td>\n",
       "      <td>male</td>\n",
       "      <td>[1397079203, 1397079210, 1397079218, 139707922...</td>\n",
       "      <td>https://www.endomondo.com/users/4969375/workou...</td>\n",
       "      <td>4969375</td>\n",
       "      <td>NaN</td>\n",
       "      <td>5.361321</td>\n",
       "      <td>64.800000</td>\n",
       "      <td>0.094728</td>\n",
       "    </tr>\n",
       "    <tr>\n",
       "      <th>1</th>\n",
       "      <td>[6.9144073, 6.9142929, 6.9141539, 6.9140268, 6...</td>\n",
       "      <td>[57.8, 57.6, 57.0, 56.4, 55.8, 55.2, 54.4, 53....</td>\n",
       "      <td>[52.2111711, 52.2112631, 52.2114064, 52.211608...</td>\n",
       "      <td>run</td>\n",
       "      <td>303565793</td>\n",
       "      <td>[60, 62, 92, 92, 132, 150, 150, 159, 159, 161,...</td>\n",
       "      <td>male</td>\n",
       "      <td>[1393908533, 1393908541, 1393908549, 139390855...</td>\n",
       "      <td>https://www.endomondo.com/users/4969375/workou...</td>\n",
       "      <td>4969375</td>\n",
       "      <td>NaN</td>\n",
       "      <td>8.844797</td>\n",
       "      <td>70.066667</td>\n",
       "      <td>0.002572</td>\n",
       "    </tr>\n",
       "    <tr>\n",
       "      <th>2</th>\n",
       "      <td>[6.9141348, 6.9145702, 6.9151684, 6.9158377, 6...</td>\n",
       "      <td>[22.8, 26.4, 30.8, 35.6, 43.0, 48.4, 49.8, 49....</td>\n",
       "      <td>[52.2110297, 52.2106325, 52.2102453, 52.209833...</td>\n",
       "      <td>run</td>\n",
       "      <td>302666522</td>\n",
       "      <td>[77, 93, 107, 121, 118, 120, 120, 124, 124, 12...</td>\n",
       "      <td>male</td>\n",
       "      <td>[1393687929, 1393687948, 1393687967, 139368798...</td>\n",
       "      <td>https://www.endomondo.com/users/4969375/workou...</td>\n",
       "      <td>4969375</td>\n",
       "      <td>NaN</td>\n",
       "      <td>18.246353</td>\n",
       "      <td>168.766667</td>\n",
       "      <td>0.014032</td>\n",
       "    </tr>\n",
       "    <tr>\n",
       "      <th>3</th>\n",
       "      <td>[6.8678543, 6.8678634, 6.8675429, 6.8672183, 6...</td>\n",
       "      <td>[35.4, 35.2, 34.6, 34.2, 35.0, 35.2, 34.8, 34....</td>\n",
       "      <td>[52.1936673, 52.1934354, 52.1931993, 52.192873...</td>\n",
       "      <td>run</td>\n",
       "      <td>296982347</td>\n",
       "      <td>[75, 101, 116, 120, 124, 126, 127, 129, 126, 1...</td>\n",
       "      <td>male</td>\n",
       "      <td>[1392480163, 1392480176, 1392480189, 139248020...</td>\n",
       "      <td>https://www.endomondo.com/users/4969375/workou...</td>\n",
       "      <td>4969375</td>\n",
       "      <td>NaN</td>\n",
       "      <td>13.584195</td>\n",
       "      <td>108.383333</td>\n",
       "      <td>0.004041</td>\n",
       "    </tr>\n",
       "    <tr>\n",
       "      <th>4</th>\n",
       "      <td>[6.9143328, 6.9146396, 6.9148949, 6.9151568, 6...</td>\n",
       "      <td>[63.0, 65.2, 66.0, 66.2, 65.8, 65.8, 67.0, 67....</td>\n",
       "      <td>[52.2112195, 52.2110264, 52.2108135, 52.210601...</td>\n",
       "      <td>run</td>\n",
       "      <td>295890426</td>\n",
       "      <td>[58, 83, 112, 115, 117, 116, 141, 121, 120, 11...</td>\n",
       "      <td>male</td>\n",
       "      <td>[1392180426, 1392180436, 1392180446, 139218045...</td>\n",
       "      <td>https://www.endomondo.com/users/4969375/workou...</td>\n",
       "      <td>4969375</td>\n",
       "      <td>NaN</td>\n",
       "      <td>10.438034</td>\n",
       "      <td>85.300000</td>\n",
       "      <td>0.010509</td>\n",
       "    </tr>\n",
       "  </tbody>\n",
       "</table>\n",
       "</div>"
      ],
      "text/plain": [
       "                                           longitude  \\\n",
       "0  [6.8854929, 6.8853678, 6.8851621, 6.8848205, 6...   \n",
       "1  [6.9144073, 6.9142929, 6.9141539, 6.9140268, 6...   \n",
       "2  [6.9141348, 6.9145702, 6.9151684, 6.9158377, 6...   \n",
       "3  [6.8678543, 6.8678634, 6.8675429, 6.8672183, 6...   \n",
       "4  [6.9143328, 6.9146396, 6.9148949, 6.9151568, 6...   \n",
       "\n",
       "                                            altitude  \\\n",
       "0  [-173.8, -151.2, -161.6, -165.4, -168.6, -172....   \n",
       "1  [57.8, 57.6, 57.0, 56.4, 55.8, 55.2, 54.4, 53....   \n",
       "2  [22.8, 26.4, 30.8, 35.6, 43.0, 48.4, 49.8, 49....   \n",
       "3  [35.4, 35.2, 34.6, 34.2, 35.0, 35.2, 34.8, 34....   \n",
       "4  [63.0, 65.2, 66.0, 66.2, 65.8, 65.8, 67.0, 67....   \n",
       "\n",
       "                                            latitude sport         id  \\\n",
       "0  [52.2226809, 52.222727, 52.2228258, 52.2228606...   run  321063199   \n",
       "1  [52.2111711, 52.2112631, 52.2114064, 52.211608...   run  303565793   \n",
       "2  [52.2110297, 52.2106325, 52.2102453, 52.209833...   run  302666522   \n",
       "3  [52.1936673, 52.1934354, 52.1931993, 52.192873...   run  296982347   \n",
       "4  [52.2112195, 52.2110264, 52.2108135, 52.210601...   run  295890426   \n",
       "\n",
       "                                          heart_rate gender  \\\n",
       "0  [80, 81, 94, 100, 102, 112, 108, 114, 110, 109...   male   \n",
       "1  [60, 62, 92, 92, 132, 150, 150, 159, 159, 161,...   male   \n",
       "2  [77, 93, 107, 121, 118, 120, 120, 124, 124, 12...   male   \n",
       "3  [75, 101, 116, 120, 124, 126, 127, 129, 126, 1...   male   \n",
       "4  [58, 83, 112, 115, 117, 116, 141, 121, 120, 11...   male   \n",
       "\n",
       "                                           timestamp  \\\n",
       "0  [1397079203, 1397079210, 1397079218, 139707922...   \n",
       "1  [1393908533, 1393908541, 1393908549, 139390855...   \n",
       "2  [1393687929, 1393687948, 1393687967, 139368798...   \n",
       "3  [1392480163, 1392480176, 1392480189, 139248020...   \n",
       "4  [1392180426, 1392180436, 1392180446, 139218045...   \n",
       "\n",
       "                                                 url   userId speed  \\\n",
       "0  https://www.endomondo.com/users/4969375/workou...  4969375   NaN   \n",
       "1  https://www.endomondo.com/users/4969375/workou...  4969375   NaN   \n",
       "2  https://www.endomondo.com/users/4969375/workou...  4969375   NaN   \n",
       "3  https://www.endomondo.com/users/4969375/workou...  4969375   NaN   \n",
       "4  https://www.endomondo.com/users/4969375/workou...  4969375   NaN   \n",
       "\n",
       "    distance    duration  start_end_dist  \n",
       "0   5.361321   64.800000        0.094728  \n",
       "1   8.844797   70.066667        0.002572  \n",
       "2  18.246353  168.766667        0.014032  \n",
       "3  13.584195  108.383333        0.004041  \n",
       "4  10.438034   85.300000        0.010509  "
      ]
     },
     "execution_count": 4,
     "metadata": {},
     "output_type": "execute_result"
    }
   ],
   "source": [
    "# limit to only running data and specified index range\n",
    "tqdm.pandas()\n",
    "df = pd.DataFrame(data)\n",
    "run_routes = df[df['sport']=='run']\n",
    "\n",
    "run_routes.reset_index(inplace=True, drop=True)\n",
    "\n",
    "run_routes['distance'] = run_routes.progress_apply(lambda row: get_route_distance(row['latitude'], row['longitude']), axis=1)\n",
    "run_routes['duration'] = run_routes.apply(lambda row: calculate_route_duration(row['timestamp']), axis=1)\n",
    "run_routes['start_end_dist'] = run_routes.apply(lambda row: get_start_end_dist(row['latitude'], row['longitude']), axis=1)\n",
    "\n",
    "# ensure indexes are in bounds\n",
    "start_index = max(0, start_index)\n",
    "end_index = min(end_index, len(run_routes))\n",
    "\n",
    "run_routes = run_routes.iloc[start_index:end_index, :]\n",
    "run_routes.head()"
   ]
  },
  {
   "cell_type": "code",
   "execution_count": 5,
   "metadata": {},
   "outputs": [],
   "source": [
    "run_routes.to_csv('run_routes_unprocessed.csv')"
   ]
  },
  {
   "cell_type": "code",
   "execution_count": 6,
   "metadata": {},
   "outputs": [],
   "source": [
    "import json\n",
    "from tqdm import tqdm\n",
    "import pandas as pd\n",
    "from utils.preprocessing import *\n",
    "\n",
    "run_routes = pd.read_csv('run_routes_unprocessed.csv')\n"
   ]
  },
  {
   "cell_type": "code",
   "execution_count": 7,
   "metadata": {},
   "outputs": [],
   "source": [
    "run_routes['longitude'] = run_routes['longitude'].apply(lambda x: json.loads(x))\n",
    "run_routes['latitude'] = run_routes['latitude'].apply(lambda x: json.loads(x))\n",
    "run_routes.set_index('Unnamed: 0', inplace=True)"
   ]
  },
  {
   "cell_type": "code",
   "execution_count": null,
   "metadata": {},
   "outputs": [
    {
     "name": "stderr",
     "output_type": "stream",
     "text": [
      "  0%|          | 28/25000 [39:10<550:29:14, 79.36s/it]"
     ]
    },
    {
     "name": "stdout",
     "output_type": "stream",
     "text": [
      "Warning: Marker yellow not found.\n"
     ]
    },
    {
     "name": "stderr",
     "output_type": "stream",
     "text": [
      "  0%|          | 52/25000 [1:45:46<559:37:32, 80.75s/it]  "
     ]
    },
    {
     "name": "stdout",
     "output_type": "stream",
     "text": [
      "Warning: Marker yellow not found.\n"
     ]
    },
    {
     "name": "stderr",
     "output_type": "stream",
     "text": [
      "  0%|          | 66/25000 [2:04:54<540:58:10, 78.11s/it]"
     ]
    }
   ],
   "source": [
    "\n",
    "processed_routes = parallel_process(run_routes)"
   ]
  },
  {
   "cell_type": "code",
   "execution_count": null,
   "metadata": {},
   "outputs": [],
   "source": [
    "\n",
    "folder_name = \"data\"\n",
    "\n",
    "# Check if the folder already exists\n",
    "if not os.path.exists(folder_name):\n",
    "    # Create the folder\n",
    "    os.makedirs(folder_name)\n",
    "\n",
    "processed_routes.to_csv(f'data/processed_routes_{start_index}_{end_index}.csv', index=False)\n",
    "print(f\"Processed routes saved to data/processed_routes_{start_index}_{end_index}.csv\")"
   ]
  }
 ],
 "metadata": {
  "kernelspec": {
   "display_name": "3.10.16",
   "language": "python",
   "name": "python3"
  },
  "language_info": {
   "codemirror_mode": {
    "name": "ipython",
    "version": 3
   },
   "file_extension": ".py",
   "mimetype": "text/x-python",
   "name": "python",
   "nbconvert_exporter": "python",
   "pygments_lexer": "ipython3",
   "version": "3.10.16"
  }
 },
 "nbformat": 4,
 "nbformat_minor": 2
}
