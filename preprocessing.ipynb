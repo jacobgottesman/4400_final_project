{
 "cells": [
  {
   "cell_type": "code",
   "execution_count": 1,
   "metadata": {},
   "outputs": [],
   "source": [
    "import json\n",
    "from tqdm import tqdm\n",
    "import pandas as pd\n",
    "from utils.preprocessing import *"
   ]
  },
  {
   "cell_type": "code",
   "execution_count": 2,
   "metadata": {},
   "outputs": [
    {
     "name": "stderr",
     "output_type": "stream",
     "text": [
      "167783it [00:42, 3946.02it/s]"
     ]
    },
    {
     "name": "stdout",
     "output_type": "stream",
     "text": [
      "Loaded 167783 JSON objects\n"
     ]
    },
    {
     "name": "stderr",
     "output_type": "stream",
     "text": [
      "\n"
     ]
    }
   ],
   "source": [
    "# get running data from endomondo\n",
    "input_file = \"archive/endomondoHR_proper.json\"\n",
    "output_file = \"archive/endomondoHR_fixed.json\"\n",
    "\n",
    "with open(input_file, \"r\", encoding=\"utf-8\") as infile, open(output_file, \"w\", encoding=\"utf-8\") as outfile:\n",
    "    for line in infile:\n",
    "        corrected_line = line.replace(\"'\", '\"')  # Replace single quotes with double quotes\n",
    "        outfile.write(corrected_line)\n",
    "\n",
    "\n",
    "data = []\n",
    "with open(output_file, \"r\", encoding=\"utf-8\") as f:\n",
    "    for line in tqdm(f):\n",
    "        data.append(json.loads(line))  # Load each line separately\n",
    "\n",
    "print(f\"Loaded {len(data)} JSON objects\")\n"
   ]
  },
  {
   "cell_type": "code",
   "execution_count": 3,
   "metadata": {},
   "outputs": [
    {
     "name": "stderr",
     "output_type": "stream",
     "text": [
      "100%|██████████| 70591/70591 [00:14<00:00, 4834.92it/s]\n",
      "/var/folders/d4/c154mt9s11x5q965j91l06qw0000gn/T/ipykernel_70405/2635295348.py:7: SettingWithCopyWarning: \n",
      "A value is trying to be set on a copy of a slice from a DataFrame.\n",
      "Try using .loc[row_indexer,col_indexer] = value instead\n",
      "\n",
      "See the caveats in the documentation: https://pandas.pydata.org/pandas-docs/stable/user_guide/indexing.html#returning-a-view-versus-a-copy\n",
      "  run_routes['distance'] = run_routes.progress_apply(lambda row: get_route_distance(row['latitude'], row['longitude']), axis=1)\n",
      "/var/folders/d4/c154mt9s11x5q965j91l06qw0000gn/T/ipykernel_70405/2635295348.py:8: SettingWithCopyWarning: \n",
      "A value is trying to be set on a copy of a slice from a DataFrame.\n",
      "Try using .loc[row_indexer,col_indexer] = value instead\n",
      "\n",
      "See the caveats in the documentation: https://pandas.pydata.org/pandas-docs/stable/user_guide/indexing.html#returning-a-view-versus-a-copy\n",
      "  run_routes['duration'] = run_routes.apply(lambda row: calculate_route_duration(row['timestamp']), axis=1)\n",
      "/var/folders/d4/c154mt9s11x5q965j91l06qw0000gn/T/ipykernel_70405/2635295348.py:9: SettingWithCopyWarning: \n",
      "A value is trying to be set on a copy of a slice from a DataFrame.\n",
      "Try using .loc[row_indexer,col_indexer] = value instead\n",
      "\n",
      "See the caveats in the documentation: https://pandas.pydata.org/pandas-docs/stable/user_guide/indexing.html#returning-a-view-versus-a-copy\n",
      "  run_routes['start_end_dist'] = run_routes.apply(lambda row: get_start_end_dist(row['latitude'], row['longitude']), axis=1)\n"
     ]
    },
    {
     "data": {
      "text/html": [
       "<div>\n",
       "<style scoped>\n",
       "    .dataframe tbody tr th:only-of-type {\n",
       "        vertical-align: middle;\n",
       "    }\n",
       "\n",
       "    .dataframe tbody tr th {\n",
       "        vertical-align: top;\n",
       "    }\n",
       "\n",
       "    .dataframe thead th {\n",
       "        text-align: right;\n",
       "    }\n",
       "</style>\n",
       "<table border=\"1\" class=\"dataframe\">\n",
       "  <thead>\n",
       "    <tr style=\"text-align: right;\">\n",
       "      <th></th>\n",
       "      <th>longitude</th>\n",
       "      <th>altitude</th>\n",
       "      <th>latitude</th>\n",
       "      <th>sport</th>\n",
       "      <th>id</th>\n",
       "      <th>heart_rate</th>\n",
       "      <th>gender</th>\n",
       "      <th>timestamp</th>\n",
       "      <th>url</th>\n",
       "      <th>userId</th>\n",
       "      <th>speed</th>\n",
       "      <th>distance</th>\n",
       "      <th>duration</th>\n",
       "      <th>start_end_dist</th>\n",
       "    </tr>\n",
       "  </thead>\n",
       "  <tbody>\n",
       "    <tr>\n",
       "      <th>0</th>\n",
       "      <td>[6.8854929, 6.8853678, 6.8851621, 6.8848205, 6...</td>\n",
       "      <td>[-173.8, -151.2, -161.6, -165.4, -168.6, -172....</td>\n",
       "      <td>[52.2226809, 52.222727, 52.2228258, 52.2228606...</td>\n",
       "      <td>run</td>\n",
       "      <td>321063199</td>\n",
       "      <td>[80, 81, 94, 100, 102, 112, 108, 114, 110, 109...</td>\n",
       "      <td>male</td>\n",
       "      <td>[1397079203, 1397079210, 1397079218, 139707922...</td>\n",
       "      <td>https://www.endomondo.com/users/4969375/workou...</td>\n",
       "      <td>4969375</td>\n",
       "      <td>NaN</td>\n",
       "      <td>5.361321</td>\n",
       "      <td>64.800000</td>\n",
       "      <td>0.094728</td>\n",
       "    </tr>\n",
       "    <tr>\n",
       "      <th>1</th>\n",
       "      <td>[6.9144073, 6.9142929, 6.9141539, 6.9140268, 6...</td>\n",
       "      <td>[57.8, 57.6, 57.0, 56.4, 55.8, 55.2, 54.4, 53....</td>\n",
       "      <td>[52.2111711, 52.2112631, 52.2114064, 52.211608...</td>\n",
       "      <td>run</td>\n",
       "      <td>303565793</td>\n",
       "      <td>[60, 62, 92, 92, 132, 150, 150, 159, 159, 161,...</td>\n",
       "      <td>male</td>\n",
       "      <td>[1393908533, 1393908541, 1393908549, 139390855...</td>\n",
       "      <td>https://www.endomondo.com/users/4969375/workou...</td>\n",
       "      <td>4969375</td>\n",
       "      <td>NaN</td>\n",
       "      <td>8.844797</td>\n",
       "      <td>70.066667</td>\n",
       "      <td>0.002572</td>\n",
       "    </tr>\n",
       "    <tr>\n",
       "      <th>2</th>\n",
       "      <td>[6.9141348, 6.9145702, 6.9151684, 6.9158377, 6...</td>\n",
       "      <td>[22.8, 26.4, 30.8, 35.6, 43.0, 48.4, 49.8, 49....</td>\n",
       "      <td>[52.2110297, 52.2106325, 52.2102453, 52.209833...</td>\n",
       "      <td>run</td>\n",
       "      <td>302666522</td>\n",
       "      <td>[77, 93, 107, 121, 118, 120, 120, 124, 124, 12...</td>\n",
       "      <td>male</td>\n",
       "      <td>[1393687929, 1393687948, 1393687967, 139368798...</td>\n",
       "      <td>https://www.endomondo.com/users/4969375/workou...</td>\n",
       "      <td>4969375</td>\n",
       "      <td>NaN</td>\n",
       "      <td>18.246353</td>\n",
       "      <td>168.766667</td>\n",
       "      <td>0.014032</td>\n",
       "    </tr>\n",
       "    <tr>\n",
       "      <th>3</th>\n",
       "      <td>[6.8678543, 6.8678634, 6.8675429, 6.8672183, 6...</td>\n",
       "      <td>[35.4, 35.2, 34.6, 34.2, 35.0, 35.2, 34.8, 34....</td>\n",
       "      <td>[52.1936673, 52.1934354, 52.1931993, 52.192873...</td>\n",
       "      <td>run</td>\n",
       "      <td>296982347</td>\n",
       "      <td>[75, 101, 116, 120, 124, 126, 127, 129, 126, 1...</td>\n",
       "      <td>male</td>\n",
       "      <td>[1392480163, 1392480176, 1392480189, 139248020...</td>\n",
       "      <td>https://www.endomondo.com/users/4969375/workou...</td>\n",
       "      <td>4969375</td>\n",
       "      <td>NaN</td>\n",
       "      <td>13.584195</td>\n",
       "      <td>108.383333</td>\n",
       "      <td>0.004041</td>\n",
       "    </tr>\n",
       "    <tr>\n",
       "      <th>4</th>\n",
       "      <td>[6.9143328, 6.9146396, 6.9148949, 6.9151568, 6...</td>\n",
       "      <td>[63.0, 65.2, 66.0, 66.2, 65.8, 65.8, 67.0, 67....</td>\n",
       "      <td>[52.2112195, 52.2110264, 52.2108135, 52.210601...</td>\n",
       "      <td>run</td>\n",
       "      <td>295890426</td>\n",
       "      <td>[58, 83, 112, 115, 117, 116, 141, 121, 120, 11...</td>\n",
       "      <td>male</td>\n",
       "      <td>[1392180426, 1392180436, 1392180446, 139218045...</td>\n",
       "      <td>https://www.endomondo.com/users/4969375/workou...</td>\n",
       "      <td>4969375</td>\n",
       "      <td>NaN</td>\n",
       "      <td>10.438034</td>\n",
       "      <td>85.300000</td>\n",
       "      <td>0.010509</td>\n",
       "    </tr>\n",
       "  </tbody>\n",
       "</table>\n",
       "</div>"
      ],
      "text/plain": [
       "                                           longitude  \\\n",
       "0  [6.8854929, 6.8853678, 6.8851621, 6.8848205, 6...   \n",
       "1  [6.9144073, 6.9142929, 6.9141539, 6.9140268, 6...   \n",
       "2  [6.9141348, 6.9145702, 6.9151684, 6.9158377, 6...   \n",
       "3  [6.8678543, 6.8678634, 6.8675429, 6.8672183, 6...   \n",
       "4  [6.9143328, 6.9146396, 6.9148949, 6.9151568, 6...   \n",
       "\n",
       "                                            altitude  \\\n",
       "0  [-173.8, -151.2, -161.6, -165.4, -168.6, -172....   \n",
       "1  [57.8, 57.6, 57.0, 56.4, 55.8, 55.2, 54.4, 53....   \n",
       "2  [22.8, 26.4, 30.8, 35.6, 43.0, 48.4, 49.8, 49....   \n",
       "3  [35.4, 35.2, 34.6, 34.2, 35.0, 35.2, 34.8, 34....   \n",
       "4  [63.0, 65.2, 66.0, 66.2, 65.8, 65.8, 67.0, 67....   \n",
       "\n",
       "                                            latitude sport         id  \\\n",
       "0  [52.2226809, 52.222727, 52.2228258, 52.2228606...   run  321063199   \n",
       "1  [52.2111711, 52.2112631, 52.2114064, 52.211608...   run  303565793   \n",
       "2  [52.2110297, 52.2106325, 52.2102453, 52.209833...   run  302666522   \n",
       "3  [52.1936673, 52.1934354, 52.1931993, 52.192873...   run  296982347   \n",
       "4  [52.2112195, 52.2110264, 52.2108135, 52.210601...   run  295890426   \n",
       "\n",
       "                                          heart_rate gender  \\\n",
       "0  [80, 81, 94, 100, 102, 112, 108, 114, 110, 109...   male   \n",
       "1  [60, 62, 92, 92, 132, 150, 150, 159, 159, 161,...   male   \n",
       "2  [77, 93, 107, 121, 118, 120, 120, 124, 124, 12...   male   \n",
       "3  [75, 101, 116, 120, 124, 126, 127, 129, 126, 1...   male   \n",
       "4  [58, 83, 112, 115, 117, 116, 141, 121, 120, 11...   male   \n",
       "\n",
       "                                           timestamp  \\\n",
       "0  [1397079203, 1397079210, 1397079218, 139707922...   \n",
       "1  [1393908533, 1393908541, 1393908549, 139390855...   \n",
       "2  [1393687929, 1393687948, 1393687967, 139368798...   \n",
       "3  [1392480163, 1392480176, 1392480189, 139248020...   \n",
       "4  [1392180426, 1392180436, 1392180446, 139218045...   \n",
       "\n",
       "                                                 url   userId speed  \\\n",
       "0  https://www.endomondo.com/users/4969375/workou...  4969375   NaN   \n",
       "1  https://www.endomondo.com/users/4969375/workou...  4969375   NaN   \n",
       "2  https://www.endomondo.com/users/4969375/workou...  4969375   NaN   \n",
       "3  https://www.endomondo.com/users/4969375/workou...  4969375   NaN   \n",
       "4  https://www.endomondo.com/users/4969375/workou...  4969375   NaN   \n",
       "\n",
       "    distance    duration  start_end_dist  \n",
       "0   5.361321   64.800000        0.094728  \n",
       "1   8.844797   70.066667        0.002572  \n",
       "2  18.246353  168.766667        0.014032  \n",
       "3  13.584195  108.383333        0.004041  \n",
       "4  10.438034   85.300000        0.010509  "
      ]
     },
     "execution_count": 3,
     "metadata": {},
     "output_type": "execute_result"
    }
   ],
   "source": [
    "tqdm.pandas()\n",
    "df = pd.DataFrame(data)\n",
    "run_routes = df[df['sport']=='run']\n",
    "\n",
    "run_routes.reset_index(inplace=True, drop=True)\n",
    "\n",
    "run_routes['distance'] = run_routes.progress_apply(lambda row: get_route_distance(row['latitude'], row['longitude']), axis=1)\n",
    "run_routes['duration'] = run_routes.apply(lambda row: calculate_route_duration(row['timestamp']), axis=1)\n",
    "run_routes['start_end_dist'] = run_routes.apply(lambda row: get_start_end_dist(row['latitude'], row['longitude']), axis=1)\n",
    "run_routes.head()"
   ]
  },
  {
   "cell_type": "code",
   "execution_count": 6,
   "metadata": {},
   "outputs": [
    {
     "name": "stderr",
     "output_type": "stream",
     "text": [
      "  0%|          | 125/70591 [01:30<11:53:18,  1.65it/s]"
     ]
    },
    {
     "name": "stdout",
     "output_type": "stream",
     "text": [
      "Warning: Marker yellow not found.\n",
      "Warning: Not all markers were found. Found 3 out of 4.\n"
     ]
    },
    {
     "name": "stderr",
     "output_type": "stream",
     "text": [
      "  0%|          | 212/70591 [02:23<11:12:42,  1.74it/s]"
     ]
    },
    {
     "name": "stdout",
     "output_type": "stream",
     "text": [
      "Warning: Marker yellow not found.\n",
      "Warning: Not all markers were found. Found 3 out of 4.\n"
     ]
    },
    {
     "name": "stderr",
     "output_type": "stream",
     "text": [
      "  0%|          | 286/70591 [03:12<22:36:28,  1.16s/it]"
     ]
    },
    {
     "name": "stdout",
     "output_type": "stream",
     "text": [
      "Warning: Marker cyan not found.\n",
      "Warning: Not all markers were found. Found 3 out of 4.\n"
     ]
    },
    {
     "name": "stderr",
     "output_type": "stream",
     "text": [
      "  0%|          | 319/70591 [03:30<10:03:29,  1.94it/s]"
     ]
    },
    {
     "name": "stdout",
     "output_type": "stream",
     "text": [
      "Warning: Marker cyan not found.\n",
      "Warning: Not all markers were found. Found 3 out of 4.\n"
     ]
    },
    {
     "name": "stderr",
     "output_type": "stream",
     "text": [
      "  0%|          | 325/70591 [03:37<16:17:25,  1.20it/s]"
     ]
    },
    {
     "name": "stdout",
     "output_type": "stream",
     "text": [
      "Warning: Marker cyan not found.\n",
      "Warning: Not all markers were found. Found 3 out of 4.\n"
     ]
    },
    {
     "name": "stderr",
     "output_type": "stream",
     "text": [
      "  1%|          | 420/70591 [04:36<22:02:54,  1.13s/it]"
     ]
    },
    {
     "name": "stdout",
     "output_type": "stream",
     "text": [
      "Warning: Marker cyan not found.\n",
      "Warning: Marker red not found.\n",
      "Warning: Not all markers were found. Found 2 out of 4.\n"
     ]
    },
    {
     "name": "stderr",
     "output_type": "stream",
     "text": [
      "  1%|          | 487/70591 [05:22<26:16:32,  1.35s/it]"
     ]
    },
    {
     "name": "stdout",
     "output_type": "stream",
     "text": [
      "Warning: Marker yellow not found.\n",
      "Warning: Not all markers were found. Found 3 out of 4.\n"
     ]
    },
    {
     "name": "stderr",
     "output_type": "stream",
     "text": [
      "  1%|          | 697/70591 [07:28<12:30:01,  1.55it/s]\n"
     ]
    },
    {
     "ename": "KeyboardInterrupt",
     "evalue": "",
     "output_type": "error",
     "traceback": [
      "\u001b[0;31m---------------------------------------------------------------------------\u001b[0m",
      "\u001b[0;31mIndexError\u001b[0m                                Traceback (most recent call last)",
      "File \u001b[0;32m/opt/anaconda3/lib/python3.12/multiprocessing/pool.py:856\u001b[0m, in \u001b[0;36mIMapIterator.next\u001b[0;34m(self, timeout)\u001b[0m\n\u001b[1;32m    855\u001b[0m \u001b[38;5;28;01mtry\u001b[39;00m:\n\u001b[0;32m--> 856\u001b[0m     item \u001b[38;5;241m=\u001b[39m \u001b[38;5;28mself\u001b[39m\u001b[38;5;241m.\u001b[39m_items\u001b[38;5;241m.\u001b[39mpopleft()\n\u001b[1;32m    857\u001b[0m \u001b[38;5;28;01mexcept\u001b[39;00m \u001b[38;5;167;01mIndexError\u001b[39;00m:\n",
      "\u001b[0;31mIndexError\u001b[0m: pop from an empty deque",
      "\nDuring handling of the above exception, another exception occurred:\n",
      "\u001b[0;31mKeyboardInterrupt\u001b[0m                         Traceback (most recent call last)",
      "Cell \u001b[0;32mIn[6], line 1\u001b[0m\n\u001b[0;32m----> 1\u001b[0m processed_routes \u001b[38;5;241m=\u001b[39m parallel_process(run_routes, num_processes\u001b[38;5;241m=\u001b[39m\u001b[38;5;241m30\u001b[39m)\n",
      "File \u001b[0;32m~/Public/DS 4440/4400_final_project/utils/preprocessing.py:318\u001b[0m, in \u001b[0;36mparallel_process\u001b[0;34m(df, num_processes)\u001b[0m\n\u001b[1;32m    315\u001b[0m ctx \u001b[38;5;241m=\u001b[39m mp\u001b[38;5;241m.\u001b[39mget_context(\u001b[38;5;124m'\u001b[39m\u001b[38;5;124mspawn\u001b[39m\u001b[38;5;124m'\u001b[39m)\n\u001b[1;32m    316\u001b[0m \u001b[38;5;28;01mwith\u001b[39;00m ctx\u001b[38;5;241m.\u001b[39mPool(processes\u001b[38;5;241m=\u001b[39mnum_processes) \u001b[38;5;28;01mas\u001b[39;00m pool:\n\u001b[1;32m    317\u001b[0m     \u001b[38;5;66;03m# Process rows in parallel with progress bar\u001b[39;00m\n\u001b[0;32m--> 318\u001b[0m     results \u001b[38;5;241m=\u001b[39m \u001b[38;5;28mlist\u001b[39m(tqdm(\n\u001b[1;32m    319\u001b[0m         pool\u001b[38;5;241m.\u001b[39mimap(preprocess_route, row_tuples),\n\u001b[1;32m    320\u001b[0m         total\u001b[38;5;241m=\u001b[39m\u001b[38;5;28mlen\u001b[39m(df)\n\u001b[1;32m    321\u001b[0m     ))\n\u001b[1;32m    323\u001b[0m \u001b[38;5;66;03m# Unpack results\u001b[39;00m\n\u001b[1;32m    324\u001b[0m bounds_list, route_xy_list, image_dims_list \u001b[38;5;241m=\u001b[39m \u001b[38;5;28mzip\u001b[39m(\u001b[38;5;241m*\u001b[39mresults)\n",
      "File \u001b[0;32m/opt/anaconda3/lib/python3.12/site-packages/tqdm/std.py:1181\u001b[0m, in \u001b[0;36mtqdm.__iter__\u001b[0;34m(self)\u001b[0m\n\u001b[1;32m   1178\u001b[0m time \u001b[38;5;241m=\u001b[39m \u001b[38;5;28mself\u001b[39m\u001b[38;5;241m.\u001b[39m_time\n\u001b[1;32m   1180\u001b[0m \u001b[38;5;28;01mtry\u001b[39;00m:\n\u001b[0;32m-> 1181\u001b[0m     \u001b[38;5;28;01mfor\u001b[39;00m obj \u001b[38;5;129;01min\u001b[39;00m iterable:\n\u001b[1;32m   1182\u001b[0m         \u001b[38;5;28;01myield\u001b[39;00m obj\n\u001b[1;32m   1183\u001b[0m         \u001b[38;5;66;03m# Update and possibly print the progressbar.\u001b[39;00m\n\u001b[1;32m   1184\u001b[0m         \u001b[38;5;66;03m# Note: does not call self.update(1) for speed optimisation.\u001b[39;00m\n",
      "File \u001b[0;32m/opt/anaconda3/lib/python3.12/multiprocessing/pool.py:861\u001b[0m, in \u001b[0;36mIMapIterator.next\u001b[0;34m(self, timeout)\u001b[0m\n\u001b[1;32m    859\u001b[0m     \u001b[38;5;28mself\u001b[39m\u001b[38;5;241m.\u001b[39m_pool \u001b[38;5;241m=\u001b[39m \u001b[38;5;28;01mNone\u001b[39;00m\n\u001b[1;32m    860\u001b[0m     \u001b[38;5;28;01mraise\u001b[39;00m \u001b[38;5;167;01mStopIteration\u001b[39;00m \u001b[38;5;28;01mfrom\u001b[39;00m \u001b[38;5;28;01mNone\u001b[39;00m\n\u001b[0;32m--> 861\u001b[0m \u001b[38;5;28mself\u001b[39m\u001b[38;5;241m.\u001b[39m_cond\u001b[38;5;241m.\u001b[39mwait(timeout)\n\u001b[1;32m    862\u001b[0m \u001b[38;5;28;01mtry\u001b[39;00m:\n\u001b[1;32m    863\u001b[0m     item \u001b[38;5;241m=\u001b[39m \u001b[38;5;28mself\u001b[39m\u001b[38;5;241m.\u001b[39m_items\u001b[38;5;241m.\u001b[39mpopleft()\n",
      "File \u001b[0;32m/opt/anaconda3/lib/python3.12/threading.py:355\u001b[0m, in \u001b[0;36mCondition.wait\u001b[0;34m(self, timeout)\u001b[0m\n\u001b[1;32m    353\u001b[0m \u001b[38;5;28;01mtry\u001b[39;00m:    \u001b[38;5;66;03m# restore state no matter what (e.g., KeyboardInterrupt)\u001b[39;00m\n\u001b[1;32m    354\u001b[0m     \u001b[38;5;28;01mif\u001b[39;00m timeout \u001b[38;5;129;01mis\u001b[39;00m \u001b[38;5;28;01mNone\u001b[39;00m:\n\u001b[0;32m--> 355\u001b[0m         waiter\u001b[38;5;241m.\u001b[39macquire()\n\u001b[1;32m    356\u001b[0m         gotit \u001b[38;5;241m=\u001b[39m \u001b[38;5;28;01mTrue\u001b[39;00m\n\u001b[1;32m    357\u001b[0m     \u001b[38;5;28;01melse\u001b[39;00m:\n",
      "\u001b[0;31mKeyboardInterrupt\u001b[0m: "
     ]
    }
   ],
   "source": [
    "processed_routes = parallel_process(run_routes, num_processes=30)"
   ]
  }
 ],
 "metadata": {
  "kernelspec": {
   "display_name": "base",
   "language": "python",
   "name": "python3"
  },
  "language_info": {
   "codemirror_mode": {
    "name": "ipython",
    "version": 3
   },
   "file_extension": ".py",
   "mimetype": "text/x-python",
   "name": "python",
   "nbconvert_exporter": "python",
   "pygments_lexer": "ipython3",
   "version": "3.12.7"
  }
 },
 "nbformat": 4,
 "nbformat_minor": 2
}
